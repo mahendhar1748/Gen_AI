{
 "cells": [
  {
   "cell_type": "markdown",
   "metadata": {},
   "source": [
    "* Get Startup with Langchain\n",
    "* Use the most basic and common components of Langchain: prompt templates,models,and Output parsers\n",
    "* Build simple application with Langchain\n",
    "* Trace your application with Lnagsmith\n",
    "* Serve your application with Langserve  "
   ]
  }
 ],
 "metadata": {
  "kernelspec": {
   "display_name": "Python 3",
   "language": "python",
   "name": "python3"
  },
  "language_info": {
   "name": "python",
   "version": "3.10.0"
  }
 },
 "nbformat": 4,
 "nbformat_minor": 2
}
